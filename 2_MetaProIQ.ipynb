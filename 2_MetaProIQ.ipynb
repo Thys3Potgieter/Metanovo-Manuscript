{
 "cells": [
  {
   "cell_type": "markdown",
   "metadata": {},
   "source": [
    "# MetaPro-IQ"
   ]
  },
  {
   "cell_type": "code",
   "execution_count": 1,
   "metadata": {},
   "outputs": [],
   "source": [
    "import skbio\n",
    "import pandas as pd\n",
    "import numpy as np\n",
    "import os \n",
    "import shutil\n",
    "import scipy.stats\n",
    "import scikit_posthocs as ph\n",
    "import numpy as np\n",
    "#import Bio\n",
    "import scipy.stats\n",
    "#import scikit_posthocs as ph\n",
    "import numpy as np\n",
    "import matplotlib_venn\n",
    "from matplotlib_venn import venn3, venn2\n",
    "import matplotlib.pyplot as plt\n",
    "from pylab import *\n",
    "import matplotlib.pyplot as plt\n",
    "from pylab import *\n",
    "from IPython.display import Image"
   ]
  },
  {
   "cell_type": "code",
   "execution_count": 2,
   "metadata": {},
   "outputs": [],
   "source": [
    "%load_ext autoreload\n",
    "%autoreload 1\n",
    "%aimport metanovo_functions"
   ]
  },
  {
   "cell_type": "markdown",
   "metadata": {},
   "source": [
    "### 1.1 Preprocessing"
   ]
  },
  {
   "cell_type": "code",
   "execution_count": 4,
   "metadata": {},
   "outputs": [
    {
     "ename": "AssertionError",
     "evalue": "",
     "output_type": "error",
     "traceback": [
      "\u001b[0;31m---------------------------------------------------------------------------\u001b[0m",
      "\u001b[0;31mAssertionError\u001b[0m                            Traceback (most recent call last)",
      "Cell \u001b[0;32mIn [4], line 2\u001b[0m\n\u001b[1;32m      1\u001b[0m metanovo_uniprot    \u001b[38;5;241m=\u001b[39m \u001b[38;5;124m'\u001b[39m\u001b[38;5;124mdata/mli/metanovo/txt\u001b[39m\u001b[38;5;124m'\u001b[39m \u001b[38;5;66;03m# path to the MetaNovo txt file, obtainable from PRIDE\u001b[39;00m\n\u001b[0;32m----> 2\u001b[0m \u001b[38;5;28;01massert\u001b[39;00m os\u001b[38;5;241m.\u001b[39mpath\u001b[38;5;241m.\u001b[39mexists(metanovo_uniprot)\n",
      "\u001b[0;31mAssertionError\u001b[0m: "
     ]
    }
   ],
   "source": [
    "# From the MetaNovo PRIDE project PXD030708, download mli_txt.zip, and unzip the txt folder to the below location:\n",
    "metanovo_uniprot    = 'data/mli/metanovo/txt' \n",
    "assert os.path.exists(metanovo_uniprot)"
   ]
  },
  {
   "cell_type": "code",
   "execution_count": 3,
   "metadata": {},
   "outputs": [],
   "source": [
    "txt_workflow = 'data/mli/txt_workflow'\n",
    "txt_matched_metagenome ='data/mli/txt_matched_metagenome'\n",
    "outfolder = 'analysis/mli/'"
   ]
  },
  {
   "cell_type": "raw",
   "metadata": {},
   "source": [
    "Reviewer Access:\n",
    "Project Name: MetaNovo: a probabilistic approach to peptide discovery in complex mass spectrometry datasets\n",
    " Project accession: PXD030708\n",
    " Project DOI: Not applicable\n",
    "Reviewer account details:\n",
    " Username: reviewer_pxd030708@ebi.ac.uk\n",
    " Password: 1E2S2xLg"
   ]
  },
  {
   "cell_type": "code",
   "execution_count": null,
   "metadata": {},
   "outputs": [],
   "source": [
    "paths = ['analysis/figures', 'analysis/supplementary' ] \n",
    "for path in paths:\n",
    "    if not os.path.exists(path):\n",
    "        os.makedirs(path)"
   ]
  },
  {
   "cell_type": "code",
   "execution_count": null,
   "metadata": {},
   "outputs": [],
   "source": [
    "# MetaNovo Parameters\n",
    "summary = pd.read_csv(metanovo_uniprot + '/summary.txt',sep='\\t')\n",
    "summary[16:].stack()\n",
    "parameters = pd.read_csv(metanovo_uniprot + '/parameters.txt',sep='\\t')"
   ]
  },
  {
   "cell_type": "code",
   "execution_count": null,
   "metadata": {},
   "outputs": [],
   "source": [
    "# MetaNovo Summary\n",
    "summary = pd.read_csv(metanovo_uniprot + '/summary.txt',sep='\\t')\n",
    "summary[16:].stack()"
   ]
  },
  {
   "cell_type": "code",
   "execution_count": null,
   "metadata": {},
   "outputs": [],
   "source": [
    "folders = { 'metanovo - UniProt': metanovo_uniprot,\n",
    "            'metaproiq - igc' :txt_workflow,\n",
    "            'metaproiq - metagenome':txt_matched_metagenome}\n",
    "\n",
    "order = ['metanovo - UniProt', 'metaproiq - igc' , 'metaproiq - metagenome']\n",
    "\n",
    "results = {}\n",
    "for name in order:\n",
    "    path = folders[name]\n",
    "    res = metanovo_functions.process_txt(path, name, outfolder)\n",
    "    results[name] = res"
   ]
  },
  {
   "cell_type": "markdown",
   "metadata": {},
   "source": [
    "### 1.2 Peptide and Protein Identification Bar Charts"
   ]
  },
  {
   "cell_type": "code",
   "execution_count": null,
   "metadata": {},
   "outputs": [],
   "source": [
    "keys = list(results.keys())\n",
    "plt.clf()\n",
    "# Peptide counts per sample\n",
    "count_df = pd.DataFrame()\n",
    "for name in order:\n",
    "    target_peptides = results[name]['TargetPeptides']\n",
    "    for col in target_peptides.columns:\n",
    "        if col.startswith('Experiment'):\n",
    "            seqs = set(target_peptides[(target_peptides[col] > 0)]['Sequence'].tolist())\n",
    "            count_df.loc[col.split()[1], name] = int(len(seqs))\n",
    "ax1 = count_df.plot(kind='bar', rot=1,figsize=(10,6))\n",
    "ax1.set_title(\"Number of peptides\")\n",
    "ax1.legend(bbox_to_anchor=(1.05, 0), loc='lower left', borderaxespad=0.)\n",
    "fig = ax1.get_figure()\n",
    "fig.savefig('analysis/figures/fig_3a.png', bbox_inches='tight', dpi=600)\n",
    "plt.xticks(rotation=0)\n",
    "\n",
    "plt.show()\n",
    "\n",
    "# Protein counts per sample\n",
    "prot_count = pd.DataFrame()\n",
    "for name in order:\n",
    "    target_proteins = results[name]['TargetProteins']\n",
    "    for col in target_proteins.columns:\n",
    "        if col.startswith('MS/MS Count '):\n",
    "            ids = set(target_proteins[(target_proteins[col] > 0)]['id'].tolist())\n",
    "            prot_count.loc[col.split()[-1], name] = int(len(ids))\n",
    "ax2 = prot_count.plot(kind='bar', rot=1,figsize=(10,6))\n",
    "ax2.set_title(\"Number of protein groups\")\n",
    "ax2.legend(bbox_to_anchor=(1.05, 0), loc='lower left', borderaxespad=0.)\n",
    "fig = ax2.get_figure()\n",
    "plt.xticks(rotation=0)\n",
    "plt.show()"
   ]
  },
  {
   "cell_type": "markdown",
   "metadata": {},
   "source": [
    "### 1.3 PEP Score Boxplots"
   ]
  },
  {
   "cell_type": "markdown",
   "metadata": {},
   "source": [
    "#### Fgure 3d"
   ]
  },
  {
   "cell_type": "code",
   "execution_count": null,
   "metadata": {},
   "outputs": [],
   "source": [
    "##################\n",
    "## Peptide Sets ##\n",
    "##################\n",
    "all_peps = set()\n",
    "keys = list(results.keys())\n",
    "names = []\n",
    "pep_scores = []\n",
    "for key in order:\n",
    "    peps = set(results[key]['TargetPeptides']['Sequence'])\n",
    "    all_peps.update(peps)\n",
    "# Get common peptides to all runs\n",
    "intersect = all_peps.copy()\n",
    "for key in order:\n",
    "    peps = set(results[key]['TargetPeptides']['Sequence'])\n",
    "    intersect = intersect & peps\n",
    "# Get esclusive peptides for all runs\n",
    "for key in order:\n",
    "    peps = results[key]['TargetPeptides']\n",
    "    rpeps = results[key]['ReversePeptides']\n",
    "    exclusive = set(peps['Sequence'].tolist()).copy()\n",
    "    for qkey in keys:\n",
    "        if not qkey == key:\n",
    "            qpeps = results[qkey]['TargetPeptides']\n",
    "            qpeps = set(qpeps['Sequence'].tolist())\n",
    "            exclusive -= qpeps\n",
    "    print('{} exclusive: '.format(key), len(exclusive))\n",
    "    common_pep = peps[peps['Sequence'].isin(intersect)]['PEP'].tolist()\n",
    "    pep_scores.append(common_pep)\n",
    "    names.append(key + ': Shared')\n",
    "    exclusive_pep = peps[peps['Sequence'].isin(exclusive)]['PEP'].tolist()\n",
    "    pep_scores.append(exclusive_pep)\n",
    "    names.append(key + ': Only')\n",
    "    reverse_pep = rpeps['PEP'].tolist()\n",
    "    pep_scores.append(reverse_pep)\n",
    "    names.append(key + ': Reverse')\n",
    "\n",
    "\n",
    "#############\n",
    "## BOXPLOT ##\n",
    "#############\n",
    "colours = ['b','g','r','c','m','y','k']\n",
    "fig = plt.figure(figsize=(10,6))\n",
    "ax = fig.add_subplot(111)\n",
    "# Create the boxplot\n",
    "bp = ax.boxplot(np.array(pep_scores, dtype=object), patch_artist=True, showfliers=False)\n",
    "## change outline color, fill color and linewidth of the boxes\n",
    "count = 0\n",
    "col_ind=0\n",
    "for box in bp['boxes']:\n",
    "    count += 1\n",
    "    # change outline color\n",
    "    box.set( color='#7570b3', linewidth=1)\n",
    "    # change fill color\n",
    "    box.set( facecolor = colours[col_ind] )\n",
    "    ## change color and linewidth of the whiskers\n",
    "    if count % 3 == 0:\n",
    "        col_ind +=1\n",
    "for whisker in bp['whiskers']:\n",
    "    whisker.set(color='#7570b3', linewidth=1)\n",
    "# change color and linewidth of the caps\n",
    "for cap in bp['caps']:\n",
    "    cap.set(color='#7570b3', linewidth=1)\n",
    "# change color and linewidth of the medians\n",
    "for median in bp['medians']:\n",
    "    median.set(color='#b2df8a', linewidth=2)\n",
    "# change the style of fliers and their fill\n",
    "for flier in bp['fliers']:\n",
    "    flier.set(marker='.', color='#e7298a', alpha=0.5)\n",
    "# Custom x-axis labels\n",
    "ax.set_xticklabels(names, rotation=90) \n",
    "ax.set_title('Peptide PEP Score distributions')\n",
    "## Remove top axes and right axes ticks\n",
    "ax.get_xaxis().tick_bottom()\n",
    "ax.get_yaxis().tick_left()\n",
    "fig.savefig('analysis/figures/fig_3d.png', bbox_inches='tight',dpi=600)\n",
    "plt.show()\n",
    "fig.clf()"
   ]
  },
  {
   "cell_type": "markdown",
   "metadata": {},
   "source": [
    "#### S3 Figure - Density plot of peptide PEP scores by group"
   ]
  },
  {
   "cell_type": "code",
   "execution_count": null,
   "metadata": {},
   "outputs": [],
   "source": [
    "from sklearn.neighbors import KernelDensity\n",
    "import seaborn as sns\n",
    "\n",
    "fig = plt.figure(figsize=(12, 5))\n",
    "\n",
    "for name in names:\n",
    "    _ = pd.DataFrame( { name : pep_scores[names.index(name)] } )\n",
    "    # Draw the density plot\n",
    "    sns.kdeplot(pep_scores[names.index(name)], label=name)\n",
    "    \n",
    "\n",
    "# Plot formatting\n",
    "plt.legend(prop={'size': 16}, title = 'Group')\n",
    "plt.title('Density plot of peptide PEP scores by group')\n",
    "plt.xlabel('Posterior Error Probability Score (PEP)')\n",
    "plt.ylabel('Density')\n",
    "\n",
    "fig.savefig('analysis/supplementary/S3_figure.png', bbox_inches='tight',dpi=600)\n",
    "plt.show()"
   ]
  },
  {
   "cell_type": "markdown",
   "metadata": {},
   "source": [
    "#### S4 Table - Peptide PEP Scores comparison"
   ]
  },
  {
   "cell_type": "code",
   "execution_count": null,
   "metadata": {},
   "outputs": [],
   "source": [
    "pep_df = pd.DataFrame()\n",
    "for val in range(len(names)):\n",
    "    pep_df.loc[names[val], 'Count'] = len(pep_scores[val])\n",
    "    pep_df.loc[names[val], 'PEP Score - median'] = np.median(pep_scores[val])\n",
    "    pep_df.loc[names[val], 'PEP Score - std. dev.'] = np.std(pep_scores[val])\n",
    "\n",
    "pep_df.to_csv('analysis/supplementary/S4_table.csv')\n",
    "pep_df"
   ]
  },
  {
   "cell_type": "markdown",
   "metadata": {},
   "source": [
    "### 1.4 PEP Score Kruskal-Wallis"
   ]
  },
  {
   "cell_type": "code",
   "execution_count": null,
   "metadata": {},
   "outputs": [],
   "source": [
    "post_hoc = metanovo_functions.list_kw_dunn(names, pep_scores, \"PEP\", \"Workflow\", outfolder)\n",
    "post_hoc"
   ]
  },
  {
   "cell_type": "markdown",
   "metadata": {},
   "source": [
    "### 1.5 Venn Diagrams"
   ]
  },
  {
   "cell_type": "markdown",
   "metadata": {},
   "source": [
    "#### Figure 3b"
   ]
  },
  {
   "cell_type": "code",
   "execution_count": null,
   "metadata": {},
   "outputs": [],
   "source": [
    "set1 = set(results['metanovo - UniProt']['TargetPeptides']['Sequence'])\n",
    "set2 = set(results['metaproiq - igc']['TargetPeptides']['Sequence'])\n",
    "set3 = set(results['metaproiq - metagenome']['TargetPeptides']['Sequence'])\n",
    "fig = plt.figure(figsize=(10,6))\n",
    "venn3([set1, set2, set3], ('MetaNovo:\\nUniProt', 'MetaPro-IQ:\\nintegrated gene catalog', 'MetaProIQ:\\nmatched metagenome'))\n",
    "fig.savefig('analysis/figures/fig_3b.png', bbox_inches='tight',dpi=600)\n",
    "plt.show()"
   ]
  },
  {
   "cell_type": "code",
   "execution_count": null,
   "metadata": {},
   "outputs": [],
   "source": [
    "mg = set(results['metaproiq - metagenome']['TargetPeptides']['Sequence']) - set(results['metaproiq - igc']['TargetPeptides']['Sequence'])\n",
    "print(len(mg))\n",
    "mn = set(results['metanovo - UniProt']['TargetPeptides']['Sequence']) & mg\n",
    "print(len(mn))"
   ]
  },
  {
   "cell_type": "markdown",
   "metadata": {},
   "source": [
    "### 1.6 UniPept v2.0.0"
   ]
  },
  {
   "cell_type": "code",
   "execution_count": null,
   "metadata": {},
   "outputs": [],
   "source": [
    "print('All peptides found: ', len(all_peps))\n",
    "w=open( outfolder + '/combined_mpi_peptide_set.txt','w')\n",
    "w.write('\\n'.join(all_peps))\n",
    "w.close()\n",
    "cmd = 'cat analysis/mli/combined_mpi_peptide_set.txt | prot2pept | peptfilter | sort -u | unipept pept2lca -e -a > analysis/mli/combined_mpi_pept2lca.csv || rm analysis/mli/combined_mpi_pept2lca.csv'\n",
    "# run this in terminal\n",
    "print('Please run this command in terminal in the root directory of the repo: \\n' + cmd)\n",
    "# Please use the file provided in Supplemental Data to use the ouput of UniPept at the time of writing\n"
   ]
  },
  {
   "cell_type": "code",
   "execution_count": null,
   "metadata": {},
   "outputs": [],
   "source": [
    "taxa = pd.read_csv('analysis/mli/combined_mpi_pept2lca.csv', low_memory=False)\n",
    "template = pd.DataFrame(pd.Series(list(all_peps)))\n",
    "template.rename(columns={0:'peptide'}, inplace=True)\n",
    "smapping = pd.merge(template, taxa, how='inner')"
   ]
  },
  {
   "cell_type": "markdown",
   "metadata": {},
   "source": [
    "#### S5-6"
   ]
  },
  {
   "cell_type": "code",
   "execution_count": null,
   "metadata": {},
   "outputs": [],
   "source": [
    "order = ['metanovo - UniProt', 'metaproiq - igc' , 'metaproiq - metagenome']\n",
    "count_df = metanovo_functions.plot_taxa(results, 'taxon_name', smapping, order, 0.5, level='peptide', fname='analysis/figures/fig_3c.png')\n",
    "met_only_taxa = count_df[count_df['metaproiq - igc'] == 0].copy()\n",
    "met_skipped_taxa = count_df[count_df['metanovo - UniProt'] == 0].copy()\n",
    "print(met_skipped_taxa)\n",
    "\n",
    "met_only_taxa.loc['Total'] = met_only_taxa.sum()\n",
    "met_only_taxa.to_csv('analysis/supplementary/S5_table.csv')\n",
    "print(met_only_taxa)\n",
    "\n",
    "count_df.loc['Total'] = count_df.sum()\n",
    "count_df.to_csv('analysis/supplementary/S6_table.csv')\n",
    "print(count_df)"
   ]
  },
  {
   "cell_type": "code",
   "execution_count": null,
   "metadata": {},
   "outputs": [],
   "source": [
    "order = ['metanovo - UniProt', 'metaproiq - igc' , 'metaproiq - metagenome']\n",
    "count_df = metanovo_functions.plot_taxa(results, 'species_name', smapping, order, 0.5, level='peptide')\n",
    "count_df"
   ]
  },
  {
   "cell_type": "code",
   "execution_count": null,
   "metadata": {},
   "outputs": [],
   "source": [
    "order = ['metanovo - UniProt', 'metaproiq - igc' , 'metaproiq - metagenome']\n",
    "count_df = metanovo_functions.plot_taxa(results, 'genus_name', smapping, order, 0.5, level='peptide')\n",
    "count_df"
   ]
  },
  {
   "cell_type": "code",
   "execution_count": null,
   "metadata": {},
   "outputs": [],
   "source": [
    "order = ['metanovo - UniProt', 'metaproiq - igc' , 'metaproiq - metagenome']\n",
    "count_df = metanovo_functions.plot_taxa(results, 'family_name', smapping, order, 0.5, level='peptide')\n",
    "count_df"
   ]
  },
  {
   "cell_type": "code",
   "execution_count": null,
   "metadata": {},
   "outputs": [],
   "source": [
    "taxon_filter = {\"superkingdom_name\":\"Bacteria\"}\n",
    "\n",
    "order = ['metanovo - UniProt', 'metaproiq - igc' , 'metaproiq - metagenome']\n",
    "\n",
    "count_df = metanovo_functions.plot_taxa(results, 'taxon_name', smapping, order, filt=0.5, level='peptide', taxon_filter=taxon_filter, filter_method='include',fname='analysis/supplementary/S7_figure.png')\n",
    "count_df = count_df.astype('int')\n",
    "count_df.loc['Total'] = count_df.sum()\n",
    "\n",
    "count_df"
   ]
  },
  {
   "cell_type": "markdown",
   "metadata": {},
   "source": [
    "### S8 Table"
   ]
  },
  {
   "cell_type": "code",
   "execution_count": null,
   "metadata": {},
   "outputs": [],
   "source": [
    "taxon_filter = {}\n",
    "order = ['metanovo - UniProt', 'metaproiq - igc' , 'metaproiq - metagenome']\n",
    "count_df = metanovo_functions.plot_taxa(results, 'kingdom_name', smapping, order, filt=0.5, level='peptide')\n",
    "count_df = count_df.astype('int')\n",
    "count_df.loc['Total'] = count_df.sum()\n",
    "count_df.to_csv('analysis/supplementary/S8_table.csv')\n",
    "count_df"
   ]
  },
  {
   "cell_type": "markdown",
   "metadata": {},
   "source": [
    "### S9 Table"
   ]
  },
  {
   "cell_type": "code",
   "execution_count": null,
   "metadata": {},
   "outputs": [],
   "source": [
    "order = ['metanovo - UniProt', 'metaproiq - igc' , 'metaproiq - metagenome']\n",
    "count_df = metanovo_functions.plot_taxa(results, 'phylum_name', smapping, order, 0.5, level='peptide')\n",
    "count_df.loc['Total'] = count_df.sum()\n",
    "count_df.to_csv('analysis/supplementary/S9_table.csv')\n",
    "count_df"
   ]
  },
  {
   "cell_type": "code",
   "execution_count": null,
   "metadata": {},
   "outputs": [],
   "source": [
    "order = ['metanovo - UniProt', 'metaproiq - igc' , 'metaproiq - metagenome']\n",
    "count_df = metanovo_functions.plot_taxa(results, 'species_name', smapping, order, level='msms', filt=0.5)\n",
    "count_df"
   ]
  },
  {
   "cell_type": "markdown",
   "metadata": {},
   "source": [
    "# Figure 3"
   ]
  },
  {
   "cell_type": "code",
   "execution_count": null,
   "metadata": {},
   "outputs": [],
   "source": [
    "metanovo_functions.concat_4way_image('analysis/figures/fig_3a.png',\n",
    "                                     'analysis/figures/fig_3b.png',\n",
    "                                     'analysis/figures/fig_3c.png',\n",
    "                                     'analysis/figures/fig_3d.png',\n",
    "                                     'analysis/figures/fig_3_combined.png' )"
   ]
  }
 ],
 "metadata": {
  "kernelspec": {
   "display_name": "venv",
   "language": "python",
   "name": "venv"
  },
  "language_info": {
   "codemirror_mode": {
    "name": "ipython",
    "version": 3
   },
   "file_extension": ".py",
   "mimetype": "text/x-python",
   "name": "python",
   "nbconvert_exporter": "python",
   "pygments_lexer": "ipython3",
   "version": "3.8.3"
  },
  "toc-autonumbering": true
 },
 "nbformat": 4,
 "nbformat_minor": 4
}
